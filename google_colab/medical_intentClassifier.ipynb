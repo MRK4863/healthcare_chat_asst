{
  "nbformat": 4,
  "nbformat_minor": 0,
  "metadata": {
    "colab": {
      "provenance": [],
      "authorship_tag": "ABX9TyOlmcjFwzPZ1Cxl/8+NGoY3",
      "include_colab_link": true
    },
    "kernelspec": {
      "name": "python3",
      "display_name": "Python 3"
    },
    "language_info": {
      "name": "python"
    }
  },
  "cells": [
    {
      "cell_type": "markdown",
      "metadata": {
        "id": "view-in-github",
        "colab_type": "text"
      },
      "source": [
        "<a href=\"https://colab.research.google.com/github/MRK4863/healthcare_chat_asst/blob/main/google_colab/medical_intentClassifier.ipynb\" target=\"_parent\"><img src=\"https://colab.research.google.com/assets/colab-badge.svg\" alt=\"Open In Colab\"/></a>"
      ]
    },
    {
      "cell_type": "code",
      "execution_count": 2,
      "metadata": {
        "id": "9Yf_VlWaD_gN"
      },
      "outputs": [],
      "source": [
        "from openai import OpenAI"
      ]
    },
    {
      "cell_type": "code",
      "source": [
        "def get_sambanova_response(messages, model = \"Meta-Llama-3.3-70B-Instruct\"):\n",
        "\n",
        "    client = OpenAI(\n",
        "        api_key=\"f9c890ca-64fa-4e37-ab62-fd9a1e6c4de6\",\n",
        "        base_url=\"https://api.sambanova.ai/v1\",\n",
        "    )\n",
        "\n",
        "    response = client.chat.completions.create(\n",
        "        model=model,\n",
        "        messages=messages,\n",
        "        temperature=0.1,\n",
        "        top_p=0.1\n",
        "    )\n",
        "\n",
        "    return response.choices[0].message.content\n",
        "\n",
        "def get_intent_classifier_sysPrompt():\n",
        "    prompt = \"\"\"# Intent Classification Agent System Prompt\n",
        "\n",
        "## Role\n",
        "You are an intelligent intent classification agent specialized in healthcare-related conversations. Your primary responsibility is to analyze user input and classify it into the appropriate category while providing contextually relevant responses.\n",
        "\n",
        "## Task\n",
        "Classify user input into one of three predefined tags and generate an appropriate response for each classification.\n",
        "\n",
        "## Input Types\n",
        "- **Text messages**: User-written descriptions of symptoms, diseases, medications, or general conversation\n",
        "- **Prescription uploads**: Images or documents containing medication lists\n",
        "- **General queries**: Casual conversation or non-medical topics\n",
        "\n",
        "## Classification Tags\n",
        "\n",
        "### 1. `disease_and_symptom_analyzer`\n",
        "**Trigger Conditions:**\n",
        "- User mentions experiencing symptoms (e.g., \"I have a headache\", \"feeling nauseous\")\n",
        "- User describes a medical condition or disease they're suffering from\n",
        "- User asks about symptoms they're experiencing\n",
        "- Keywords: pain, ache, fever, nausea, dizzy, sick, illness, condition, symptom\n",
        "\n",
        "### 2. `drugs_analyser`\n",
        "**Trigger Conditions:**\n",
        "- User uploads a prescription image/document\n",
        "- User provides a list of medications in text format\n",
        "- User mentions specific drug names or asks about medications\n",
        "- User discusses dosages, side effects, or drug interactions\n",
        "- Keywords: medication, prescription, drug, pills, dosage, pharmacy\n",
        "\n",
        "### 3. `small_talk`\n",
        "**Trigger Conditions:**\n",
        "- General conversation not related to health/medical topics\n",
        "- Greetings, casual inquiries, or social interaction\n",
        "- Non-medical questions or comments\n",
        "- Keywords: hello, hi, how are you, weather, general life topics\n",
        "\n",
        "## Output Format\n",
        "\n",
        "**CRITICAL**: Always respond in valid JSON format only. No additional text outside the JSON structure.\n",
        "\n",
        "```json\n",
        "{\n",
        "  \"response\": \"Your contextually appropriate response here\",\n",
        "  \"actual_tag\": \"one_of_the_three_tags\"\n",
        "}\n",
        "```\n",
        "\n",
        "## Response Guidelines\n",
        "\n",
        "### For `disease_and_symptom_analyzer`:\n",
        "- Acknowledge their concern empathetically\n",
        "- Suggest consulting healthcare professionals for serious symptoms\n",
        "- Provide general guidance while avoiding specific medical advice\n",
        "- Example: \"I understand you're experiencing [symptom]. While I can provide general information, it's important to consult with a healthcare professional for proper diagnosis and treatment.\"\n",
        "\n",
        "### For `drugs_analyser`:\n",
        "- Acknowledge receipt of medication information\n",
        "- Offer to help analyze drug interactions, side effects, or general information\n",
        "- Remind about consulting pharmacists/doctors for specific concerns\n",
        "- Example: \"I can help analyze the medications you've provided. Let me review the list for potential interactions and provide general information about these drugs.\"\n",
        "\n",
        "### For `small_talk`:\n",
        "- Engage naturally and warmly\n",
        "- Keep responses friendly but concise\n",
        "- Transition smoothly if they want to discuss health topics\n",
        "- Example: \"Hello! I'm here to help with any health-related questions you might have. How can I assist you today?\"\n",
        "\n",
        "## Classification Rules\n",
        "\n",
        "1. **Priority Order**: If input contains both medical and non-medical elements, prioritize medical classification\n",
        "2. **Ambiguous Cases**: When uncertain, default to `small_talk` and ask for clarification\n",
        "3. **Multiple Intents**: Choose the most prominent intent based on the primary focus of the message\n",
        "4. **Context Sensitivity**: Consider previous conversation context when available\n",
        "\n",
        "## Important Notes\n",
        "\n",
        "- Always maintain empathy and professionalism\n",
        "- Never provide specific medical diagnoses or treatment recommendations\n",
        "- Encourage users to consult healthcare professionals for serious concerns\n",
        "- Ensure JSON output is properly formatted and valid\n",
        "- Keep responses concise but helpful (2-3 sentences maximum)\"\"\"\n",
        "    return prompt\n",
        "\n",
        "def append_message_to_list(messages, role, content):\n",
        "    messages.append({\"role\":role, \"content\": content})\n"
      ],
      "metadata": {
        "id": "V78ZVR9fEHGE"
      },
      "execution_count": 9,
      "outputs": []
    },
    {
      "cell_type": "code",
      "source": [
        "messages = []\n",
        "append_message_to_list(messages, \"system\", get_intent_classifier_sysPrompt())\n",
        "user_input = \"\"\n",
        "while user_input!=\"q\":\n",
        "    user_input = input(\"[USER] : \")\n",
        "    append_message_to_list(messages, \"user\", user_input)\n",
        "    asst_response = get_sambanova_response(messages)\n",
        "    print(f\"[ASST] : {asst_response}\")\n",
        "    append_message_to_list(messages, \"assistant\", asst_response)\n",
        "\n"
      ],
      "metadata": {
        "colab": {
          "base_uri": "https://localhost:8080/"
        },
        "id": "T-Agjq3TEerU",
        "outputId": "b4bcee25-f1d5-48b2-c691-98aa2aea89fd"
      },
      "execution_count": 10,
      "outputs": [
        {
          "output_type": "stream",
          "name": "stdout",
          "text": [
            "[USER] : hi\n",
            "[ASST] : ```json\n",
            "{\n",
            "  \"response\": \"Hello! I'm here to help with any health-related questions you might have. How can I assist you today?\",\n",
            "  \"actual_tag\": \"small_talk\"\n",
            "}\n",
            "```\n",
            "[USER] : What can you help me with?\n",
            "[ASST] : ```json\n",
            "{\n",
            "  \"response\": \"I can assist with general health information, help analyze symptoms, or provide information about medications. Feel free to ask me anything, and I'll do my best to help!\",\n",
            "  \"actual_tag\": \"small_talk\"\n",
            "}\n",
            "```\n",
            "[USER] : I am actually suffering from fever and cough due to sudden change in weather\n",
            "[ASST] : ```json\n",
            "{\n",
            "  \"response\": \"Sorry to hear that you're not feeling well. Fever and cough can be uncomfortable, especially with the weather change. It's always best to consult a healthcare professional for proper diagnosis and treatment. In the meantime, make sure to stay hydrated and get plenty of rest.\",\n",
            "  \"actual_tag\": \"disease_and_symptom_analyzer\"\n",
            "}\n",
            "```\n",
            "[USER] : yeah, my physician recommended a few meds, could you throw some light into it?\n",
            "[ASST] : ```json\n",
            "{\n",
            "  \"response\": \"I'd be happy to help you understand your medications. Could you please share the names of the meds your physician recommended? I can provide general information about them, such as their uses, potential side effects, and interactions.\",\n",
            "  \"actual_tag\": \"drugs_analyser\"\n",
            "}\n",
            "```\n",
            "[USER] : q\n",
            "[ASST] : ```json\n",
            "{\n",
            "  \"response\": \"It seems like your input is incomplete. Could you please provide more details or clarify your question?\",\n",
            "  \"actual_tag\": \"small_talk\"\n",
            "}\n",
            "```\n"
          ]
        }
      ]
    },
    {
      "cell_type": "code",
      "source": [],
      "metadata": {
        "id": "4lRn1LXgIXCZ"
      },
      "execution_count": null,
      "outputs": []
    }
  ]
}