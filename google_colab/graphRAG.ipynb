{
  "cells": [
    {
      "cell_type": "markdown",
      "metadata": {
        "id": "view-in-github",
        "colab_type": "text"
      },
      "source": [
        "<a href=\"https://colab.research.google.com/github/MRK4863/healthcare_chat_asst/blob/main/google_colab/graphRAG.ipynb\" target=\"_parent\"><img src=\"https://colab.research.google.com/assets/colab-badge.svg\" alt=\"Open In Colab\"/></a>"
      ]
    },
    {
      "cell_type": "code",
      "source": [
        "!pip install neo4j -qq"
      ],
      "metadata": {
        "colab": {
          "base_uri": "https://localhost:8080/"
        },
        "id": "aeyml834Af29",
        "outputId": "b3e97896-0f99-4efb-b427-61acde549f3b"
      },
      "id": "aeyml834Af29",
      "execution_count": 1,
      "outputs": [
        {
          "output_type": "stream",
          "name": "stdout",
          "text": [
            "\u001b[?25l   \u001b[90m━━━━━━━━━━━━━━━━━━━━━━━━━━━━━━━━━━━━━━━━\u001b[0m \u001b[32m0.0/312.3 kB\u001b[0m \u001b[31m?\u001b[0m eta \u001b[36m-:--:--\u001b[0m\r\u001b[2K   \u001b[91m━━━━━━━━━━━━━━━━━━━━━━━━━━━━━━━━━━━━━━━\u001b[0m\u001b[90m╺\u001b[0m \u001b[32m307.2/312.3 kB\u001b[0m \u001b[31m30.4 MB/s\u001b[0m eta \u001b[36m0:00:01\u001b[0m\r\u001b[2K   \u001b[90m━━━━━━━━━━━━━━━━━━━━━━━━━━━━━━━━━━━━━━━━\u001b[0m \u001b[32m312.3/312.3 kB\u001b[0m \u001b[31m7.9 MB/s\u001b[0m eta \u001b[36m0:00:00\u001b[0m\n",
            "\u001b[?25h"
          ]
        }
      ]
    },
    {
      "cell_type": "code",
      "execution_count": 9,
      "id": "f1f6cd30",
      "metadata": {
        "id": "f1f6cd30"
      },
      "outputs": [],
      "source": [
        "import pandas as pd\n",
        "from neo4j import GraphDatabase\n",
        "from itertools import combinations"
      ]
    },
    {
      "cell_type": "code",
      "execution_count": 10,
      "id": "d19ecc02",
      "metadata": {
        "id": "d19ecc02"
      },
      "outputs": [],
      "source": [
        "# Read from environment variables or .env file\n",
        "uri = \"neo4j+s://fecbe539.databases.neo4j.io\"\n",
        "username = \"neo4j\"\n",
        "password = \"yaxMZJyX9a6Ph4SNdRncWJWbSWbmiNGS9Flah_UV100\""
      ]
    },
    {
      "cell_type": "code",
      "execution_count": 11,
      "id": "1c460f94",
      "metadata": {
        "id": "1c460f94"
      },
      "outputs": [],
      "source": [
        "# Connect to Neo4j Aura\n",
        "driver = GraphDatabase.driver(\n",
        "    uri,\n",
        "    auth=(\"neo4j\", password)\n",
        ")"
      ]
    },
    {
      "cell_type": "code",
      "execution_count": 12,
      "id": "d3a94e40",
      "metadata": {
        "id": "d3a94e40",
        "colab": {
          "base_uri": "https://localhost:8080/"
        },
        "outputId": "732976b4-dfed-4f31-a212-ecbcf0496ee7"
      },
      "outputs": [
        {
          "output_type": "stream",
          "name": "stderr",
          "text": [
            "<ipython-input-12-3289901911>:1: DtypeWarning: Columns (29,30,31,32,36,37) have mixed types. Specify dtype option on import or set low_memory=False.\n",
            "  df_drug_db = pd.read_csv(\"/content/drugbank_clean.csv\")\n"
          ]
        }
      ],
      "source": [
        "df_drug_db = pd.read_csv(\"/content/drugbank_clean.csv\")\n",
        "\n",
        "filtered_df = df_drug_db.dropna(subset=['name', 'drugbank-id'])\n",
        "\n",
        "name_to_drugbank_dict = dict(zip(filtered_df['name'], filtered_df['drugbank-id']))"
      ]
    },
    {
      "cell_type": "code",
      "execution_count": 13,
      "id": "47812f6e",
      "metadata": {
        "colab": {
          "base_uri": "https://localhost:8080/"
        },
        "id": "47812f6e",
        "outputId": "b6cea28e-3e41-4ec0-d619-47c8f86aae45"
      },
      "outputs": [
        {
          "output_type": "stream",
          "name": "stderr",
          "text": [
            "<ipython-input-13-4113845751>:27: DeprecationWarning: read_transaction has been renamed to execute_read\n",
            "  drug_infos = session.read_transaction(get_drug_info, drug_list)\n",
            "<ipython-input-13-4113845751>:28: DeprecationWarning: read_transaction has been renamed to execute_read\n",
            "  interaction_infos = session.read_transaction(get_interactions, pairs)\n"
          ]
        }
      ],
      "source": [
        "def get_drug_info(tx, drug_names):\n",
        "    query = \"\"\"\n",
        "    MATCH (d:Drug)\n",
        "    WHERE d.name IN $drug_names\n",
        "    RETURN d.drugbank_id AS id, d.name AS name, d.description AS description,\n",
        "           d.indication AS indication, d.mechanism_of_action AS mechanism, d.toxicity AS toxicity, d.food_interactions as food_interactions\n",
        "    \"\"\"\n",
        "    return list(tx.run(query, drug_names=drug_names))\n",
        "\n",
        "def get_interactions(tx, pairs):\n",
        "    results = []\n",
        "    for drug1, drug2 in pairs:\n",
        "        # drug_1_id, drug_2_id = name_to_drugbank_dict[drug1], name_to_drugbank_dict[drug2]\n",
        "        query = \"\"\"\n",
        "        MATCH (a:Drug {name: $drug1})-[r:INTERACTS_WITH]-(b:Drug {name: $drug2})\n",
        "        RETURN a.name AS drug1, b.name AS drug2, r.description AS description\n",
        "        \"\"\"\n",
        "        rec = tx.run(query, drug1=drug1, drug2=drug2).single()\n",
        "        if rec:\n",
        "            results.append(dict(rec))\n",
        "    return results\n",
        "\n",
        "drug_list = [\"Titanium dioxide\", \"Verteporfin\", \"Trioxsalen\", \"Cetirizine\", \"Acetaminophen\"]\n",
        "pairs = list(combinations(drug_list, 2))\n",
        "\n",
        "with driver.session() as session:\n",
        "    drug_infos = session.read_transaction(get_drug_info, drug_list)\n",
        "    interaction_infos = session.read_transaction(get_interactions, pairs)"
      ]
    },
    {
      "cell_type": "code",
      "execution_count": 14,
      "id": "61a18458",
      "metadata": {
        "id": "61a18458"
      },
      "outputs": [],
      "source": [
        "def build_prompt(drug_infos, interaction_infos):\n",
        "    \"\"\"\n",
        "    Build a well-organized, markdown-formatted prompt for drug information analysis.\n",
        "\n",
        "    Args:\n",
        "        drug_infos (list): List of dictionaries containing drug information\n",
        "        interaction_infos (list): List of dictionaries containing drug interaction information\n",
        "\n",
        "    Returns:\n",
        "        str: Formatted prompt string\n",
        "    \"\"\"\n",
        "\n",
        "    prompt = \"\"\"# Clinical Drug Analysis Assistant\n",
        "\n",
        "## Instructions\n",
        "You are a clinical assistant tasked with analyzing drug information. Please follow these steps:\n",
        "\n",
        "1. **Summarize each drug** - Provide a clear, concise summary of each medication\n",
        "2. **Analyze combination risks** - List and explain the risks of combining any of these drugs\n",
        "3. **Base responses on provided data only** - Do not generate information that cannot be verified from the data below\n",
        "\n",
        "---\n",
        "\n",
        "## Drug Information Database\n",
        "\n",
        "\"\"\"\n",
        "\n",
        "    # Add individual drug information\n",
        "    for i, drug in enumerate(drug_infos, 1):\n",
        "        prompt += f\"\"\"### {i}. {drug['name']}\n",
        "\n",
        "**Description:** {drug['description']}\n",
        "\n",
        "**Clinical Details:**\n",
        "- **Indication:** {drug['indication']}\n",
        "- **Mechanism of Action:** {drug['mechanism']}\n",
        "- **Toxicity Profile:** {drug['toxicity']}\n",
        "- **Food Interactions:** {drug['food_interactions']}\n",
        "\n",
        "---\n",
        "\n",
        "\"\"\"\n",
        "\n",
        "    # Add drug interaction information\n",
        "    prompt += \"\"\"## Drug-Drug Interaction Analysis\n",
        "\n",
        "\"\"\"\n",
        "\n",
        "    if interaction_infos and len(interaction_infos) > 0:\n",
        "        prompt += \"\"\"### Known Interactions\n",
        "\n",
        "\"\"\"\n",
        "        for i, interaction in enumerate(interaction_infos, 1):\n",
        "            prompt += f\"\"\"**{i}. {interaction['drug1']} + {interaction['drug2']}**\n",
        "- Risk: {interaction['description']}\n",
        "\n",
        "\"\"\"\n",
        "    else:\n",
        "        prompt += \"\"\"### No Known Interactions\n",
        "No documented drug-drug interactions were found among the provided medications based on the available data.\n",
        "\n",
        "\"\"\"\n",
        "\n",
        "    prompt += \"\"\"---\n",
        "\n",
        "## Output Requirements\n",
        "\n",
        "Please structure your response as follows:\n",
        "\n",
        "### Drug Summaries\n",
        "Provide a concise summary for each medication listed above.\n",
        "\n",
        "### Combination Risk Assessment\n",
        "Analyze and explain any risks associated with combining these medications, based solely on the interaction data provided.\n",
        "\n",
        "### Clinical Recommendations\n",
        "Offer appropriate guidance for patients or clinicians based on the available information. Include food-interaction recommendations as well if appropriate\n",
        "\n",
        "**Note:** All information should be clearly attributed to the provided data sources. Do not include speculative or unverified information.\"\"\"\n",
        "\n",
        "    return prompt\n",
        "\n",
        "prompt = build_prompt(drug_infos, interaction_infos)\n"
      ]
    },
    {
      "cell_type": "code",
      "execution_count": 15,
      "id": "6b9d1ad8",
      "metadata": {
        "colab": {
          "base_uri": "https://localhost:8080/"
        },
        "id": "6b9d1ad8",
        "outputId": "fa82b74e-cf9d-4728-e8c0-a0587e4ba578"
      },
      "outputs": [
        {
          "output_type": "stream",
          "name": "stdout",
          "text": [
            "# Clinical Drug Analysis Assistant\n",
            "\n",
            "## Instructions\n",
            "You are a clinical assistant tasked with analyzing drug information. Please follow these steps:\n",
            "\n",
            "1. **Summarize each drug** - Provide a clear, concise summary of each medication\n",
            "2. **Analyze combination risks** - List and explain the risks of combining any of these drugs\n",
            "3. **Base responses on provided data only** - Do not generate information that cannot be verified from the data below\n",
            "\n",
            "---\n",
            "\n",
            "## Drug Information Database\n",
            "\n",
            "### 1. Acetaminophen\n",
            "\n",
            "**Description:** Acetaminophen (paracetamol), also commonly known as _Tylenol_, is the most commonly taken analgesic worldwide and is recommended as first-line therapy in pain conditions by the World Health Organization (WHO).[A176318] It is also used for its antipyretic effects, helping to reduce fever.[F4124] This drug was initially approved by the U.S. FDA in 1951 and is available in a variety of forms including syrup form, regular tablets, effervescent tablets, injection, suppository, and other forms.[L5756,L5774,F4124,Label]\r\n",
            "\r\n",
            "Acetaminophen is often found combined with other drugs in more than 600 over the counter (OTC) allergy medications, cold medications, sleep medications, pain relievers, and other products.[L5783] Confusion about dosing of this drug may be caused by the availability of different formulas, strengths, and dosage instructions for children of different ages.[L5783] Due to the possibility of fatal overdose and liver failure associated with the incorrect use of acetaminophen, it is important to follow current and available national and manufacturer dosing guidelines while this drug is taken or prescribed.[L5786,L5789,Label]\n",
            "\n",
            "**Clinical Details:**\n",
            "- **Indication:** In general, acetaminophen is used for the treatment of mild to moderate pain and reduction of fever.[F4124] It is available over the counter in various forms, the most common being oral forms.\r\n",
            "\r\n",
            "Acetaminophen _injection_ is indicated for the management of mild to moderate pain, the management of moderate to severe pain with adjunctive opioid analgesics, and the reduction of fever.[Label]\r\n",
            "\r\n",
            "Because of its low risk of causing allergic reactions, this drug can be administered in patients who are intolerant to salicylates and those with allergic tendencies, including bronchial asthmatics.[F4124] Specific dosing guidelines should be followed when administering acetaminophen to children.[L5780]\n",
            "- **Mechanism of Action:** According to its FDA labeling, acetaminophen's exact mechanism of action has not been fully established[Label] - despite this, it is often categorized alongside NSAIDs (nonsteroidal anti-inflammatory drugs) due to its ability to inhibit the cyclooxygenase (COX) pathways.[T518] It is thought to exert central actions which ultimately lead to the alleviation of pain symptoms.[T518]\r\n",
            "\r\n",
            "One theory is that acetaminophen increases the pain threshold by inhibiting two isoforms of cyclooxygenase, COX-1 and COX-2, which are involved in prostaglandin (PG) synthesis. Prostaglandins are responsible for eliciting pain sensations.[A176366] Acetaminophen does not inhibit cyclooxygenase in peripheral tissues and, therefore, has no peripheral anti-inflammatory effects. Though acetylsalicylic acid (aspirin) is an irreversible inhibitor of COX and directly blocks the active site of this enzyme, studies have shown that acetaminophen (paracetamol) blocks COX indirectly.[F4133] Studies also suggest that acetaminophen selectively blocks a variant type of the COX enzyme that is unique from the known variants COX-1 and COX-2.[A468] This enzyme has been referred to as _COX-3_. The antipyretic actions of acetaminophen are likely attributed to direct action on heat-regulating centers in the brain, resulting in peripheral vasodilation, sweating, and loss of body heat.[F4133] The exact mechanism of action of this drug is not fully understood at this time, but future research may contribute to deeper knowledge.[F4133]\n",
            "- **Toxicity Profile:** LD50 = 338 mg/kg (oral, mouse); LD50 = 1944 mg/kg (oral, rat)[F4133]\r\n",
            "\r\n",
            "**Overdose and liver toxicity** \r\n",
            "\r\n",
            "Acetaminophen overdose may be manifested by renal tubular necrosis, hypoglycemic coma, and thrombocytopenia. Sometimes, liver necrosis can occur as well as liver failure. Death and the requirement of a liver transplant may also occur.[Label] Metabolism by the CYP2E1 pathway releases a toxic acetaminophen metabolite known as _N-acetyl-p-benzoquinoneimine_(NAPQI). The toxic effects caused by this drug are attributed to NAPQI, not acetaminophen alone.[F4133]\r\n",
            "\r\n",
            "**Carcinogenesis**\r\n",
            "\r\n",
            "Long-term studies in mice and rats have been completed by the National Toxicology Program to study the carcinogenic risk of acetaminophen. In 2-year feeding studies, F344/N rats and B6C3F1 mice consumed a diet containing acetaminophen up to 6,000 ppm. Female rats showed evidence of carcinogenic activity demonstrated by a higher incidence of mononuclear cell leukemia at doses 0.8 times the maximum human daily dose (MHDD). No evidence of carcinogenesis in male rats (0.7 times) or mice (1.2 to 1.4 times the MHDD) was noted.[Label] The clinical relevance of this finding in humans is unknown.\r\n",
            "\r\n",
            "**Mutagenesis**\r\n",
            "\r\n",
            "Acetaminophen was not found to be mutagenic in the bacterial reverse mutation assay (Ames test). Despite this finding, acetaminophen tested positive in the in vitro mouse lymphoma assay as well as the in vitro chromosomal aberration assay using human lymphocytes. In published studies, acetaminophen has been reported to be clastogenic (disrupting chromosomes) when given a high dose of 1,500 mg/kg/day to the rat model (3.6 times the MHDD). No clastogenicity was observed at a dose of 750 mg/kg/day (1.8 times the MHDD), indicating that this drug has a threshold before it may cause mutagenesis.[Label] The clinical relevance of this finding in humans is unknown.\r\n",
            "\r\n",
            "**Impairment of Fertility**\r\n",
            "\r\n",
            "In studies conducted by the National Toxicology Program, fertility assessments have been performed in Swiss mice in a continuous breeding study. No effects on fertility were seen.[Label] \r\n",
            "\r\n",
            "**Use in pregnancy and nursing**\r\n",
            "\r\n",
            "The FDA label for acetaminophen considers it a pregnancy category C drug, meaning this drug has demonstrated adverse effects in animal studies. No human clinical studies in pregnancy have been done to this date for intravenous acetaminophen.[Label] Use acetaminophen only when necessary during pregnancy.[Label] Epidemiological data on oral acetaminophen use in pregnant women demonstrate no increase in the risk of major congenital malformations.[Label] While prospective clinical studies examining the results of nursing with acetaminophen use have not been conducted, acetaminophen is found secreted in human milk at low concentrations after oral administration. Data from more than 15 nursing mothers taking acetaminophen was obtained, and the calculated daily dose of acetaminophen that reaches the infant is about 1 to 2% of the maternal dose. Caution should be observed when acetaminophen is taken by a nursing woman.[Label]\n",
            "- **Food Interactions:** Avoid alcohol. Alcohol may increase the risk of hepatotoxicity. Take with or without food. The absorption is unaffected by food.\n",
            "\n",
            "---\n",
            "\n",
            "### 2. Cetirizine\n",
            "\n",
            "**Description:** Cetirizine, also commonly known as _Zyrtec_, is an orally active second-generation histamine H1 antagonist proven effective in the treatment of various allergic symptoms, such as sneezing, coughing, nasal congestion, hives, and other symptoms [A175051], [A175054]. \r\n",
            "\r\n",
            "One of the most common uses for this drug is for a condition called _allergic rhinitis_. The prevalence of allergic rhinitis in the United States is about 15% according to physician diagnoses, and up to 30%, according to self-reported nasal symptoms. Allergic rhinitis is associated with multiple missed or unproductive days at work and school, problems with sleep, and other difficulties with day to day activities for many individuals [A175057]. Furthermore, some antihistamine agents that are used to treat this condition cause undesirable, sedating effects [A175060]. \r\n",
            "\r\n",
            "Cetirizine is one of the first second-generation H1 antihistamines (SGAHs) formulated to selectively inhibit the H1 receptor without sedating effects [A175054].\n",
            "\n",
            "**Clinical Details:**\n",
            "- **Indication:** **Seasonal Allergic Rhinitis**: Indicated for the relief of symptoms associated with seasonal allergic rhinitis caused by allergens such as ragweed, grass and tree pollens in adults and children 2 years of age and above. Symptoms treated effectively include sneezing, rhinorrhea, nasal pruritus, ocular pruritus, tearing, and redness of the eyes [FDA label]. \r\n",
            "\r\n",
            "**Perennial allergic rhinitis**: This drug is indicated for the relief of symptoms associated with perennial allergic rhinitis due to allergens including dust mites, animal dander, and molds in adults and children 6 months of age and older. Symptoms treated effectively include sneezing, rhinorrhea, postnasal discharge, nasal pruritus, ocular pruritus, and tearing [FDA label]. \r\n",
            "\r\n",
            "**Chronic urticaria**: Cetirizine is indicated for the treatment of the uncomplicated skin manifestations of chronic idiopathic urticaria in adults and children 6 months of age and older. It markedly reduces the occurrence, severity, and duration of hives and significantly reduces pruritus [FDA label].\n",
            "- **Mechanism of Action:** Cetirizine, a metabolite of _hydroxyzine_, is an antihistamine drug.  Its main effects are achieved through selective inhibition of peripheral H1 receptors. The antihistamine activity of cetirizine has been shown in a variety of animal and human models. _In vivo_ and _ex vivo_ animal models have shown insignificant anticholinergic and antiserotonergic effects. In clinical studies, however, dry mouth was found to be more frequent with cetirizine than with a placebo. In vitro receptor binding studies have demonstrated no detectable affinity of cetirizine for histamine receptors  other than the H1 receptors. Studies with radiolabeled cetirizine administration in the rat have demonstrated insignificant penetration into the brain. _Ex vivo_ studies in the mouse have shown that systemically administered cetirizine does not occupy cerebral H1 receptors significantly [FDA label].\n",
            "- **Toxicity Profile:** Oral LD50 (rat): 365 mg/kg; Intraperitoneal LDLO (mouse): 138 mg/kg; Oral TDLO (rat): 50 mg/kg; Oral TDLO (mouse): 0.1 mg/kg [MSDS]. \r\n",
            "\r\n",
            "**Carcinogenesis and mutagenesis**: In a 2-year carcinogenicity study in rats, cetirizine was not shown to be carcinogenic at dietary doses up to 20 mg/kg (approximately 15 times the maximum recommended daily oral dose in adults). In a 2-year carcinogenicity study in mice, cetirizine administration lead to an incidence of benign liver tumors in males at a dietary dose of 16 mg/kg (approximately 6 times the maximum recommended daily oral dose in adults). The clinical significance of these findings during long-term use of cetirizine is unknown at this time [FDA label].\r\n",
            "\r\n",
            "Cetirizine was not mutagenic in the Ames test, and not clastogenic in the human lymphocyte assay, the mouse lymphoma assay, and in vivo micronucleus test in rats [FDA label]. \r\n",
            "\r\n",
            "**Impairment of fertility**\r\n",
            "\r\n",
            "In a fertility and reproduction study in mice, cetirizine did not negatively impact fertility at an oral dose of 64 mg/kg (approximately 25 times the maximum recommended daily oral dose in adults) [FDA label]. \r\n",
            "\r\n",
            "\r\n",
            "**Pregnancy Category B**: \r\n",
            "\r\n",
            "In mice, rats, and rabbits, cetirizine was not teratogenic at oral doses up to 96, 225, and 135 mg/kg, respectively (approximately 40, 180 and 220 times the maximum recommended daily oral dose in adults). There are no adequate and well-controlled studies in pregnant women. Because animal studies are not always predictive of human response, cetirizine should be used in pregnancy only if clearly needed [FDA label]. \r\n",
            "\r\n",
            "**Use in breastfeeding/nursing**\r\n",
            "\r\n",
            "Cetirizine has been reported to be excreted in human breast milk. The use of cetirizine in nursing mothers is not recommended [FDA label].\n",
            "- **Food Interactions:** Avoid alcohol. Take with or without food. The absorption is unaffected by food.\n",
            "\n",
            "---\n",
            "\n",
            "### 3. Verteporfin\n",
            "\n",
            "**Description:** Verteporfin, marketed as Visudyne, is a benzoporphyrin derivative. It is used as a photosensitizer in photodynamic therapy to eliminate abnormal blood vessels in wet form macular degeneration. Verteporfin accumulates in these abnormal blood vessels and, when stimulated by nonthermal red light with a wavelength of 693 nm in the presence of oxygen, produces highly reactive short-lived singlet oxygen and other reactive oxygen radicals, resulting in local damage to the endothelium and blockage of the vessels.\n",
            "\n",
            "**Clinical Details:**\n",
            "- **Indication:** For the treatment of patients with predominantly classic subfoveal choroidal neovascularization due to age-related macular degeneration, pathologic myopia or presumed ocular histoplasmosis syndrome. Verteporfin can also be used to destroy tumors.\n",
            "- **Mechanism of Action:** Verteporfin is transported in the plasma primarily by lipoproteins. Once verteporfin is activated by light in the presence of oxygen, highly reactive, short-lived singlet oxygen and reactive oxygen radicals are generated. Light activation of verteporfin results in local damage to neovascular endothelium, resulting in vessel occlusion. Damaged endothelium is known to release procoagulant and vasoactive factors through the lipo-oxygenase (leukotriene) and cyclo-oxygenase (eicosanoids such as thromboxane) pathways, resulting in platelet aggregation, fibrin clot formation and vasoconstriction. Verteporfin appears to somewhat preferentially accumulate in neovasculature, including choroidal neovasculature. However, animal models indicate that the drug is also present in the retina. As singlet oxygen and reactive oxygen radicals are cytotoxic, Verteporfin can also be used to destroy tumor cells.\n",
            "- **Toxicity Profile:** Overdose of drug and/or light in the treated eye may result in nonperfusion of normal retinal vessels with the possibility of severe decrease in vision that could be permanent. An overdose of drug will also result in the prolongation of the period during which the patient remains photosensitive to bright light.\n",
            "- **Food Interactions:** nan\n",
            "\n",
            "---\n",
            "\n",
            "### 4. Trioxsalen\n",
            "\n",
            "**Description:** Trioxsalen (trimethylpsoralen, trioxysalen or trisoralen) is a furanocoumarin and a psoralen derivative obtained from several plants, mainly Psoralea corylifolia. Like other psoralens it causes photosensitization of the skin. It is administered either topically or orally in conjunction with UV-A (the least damaging form of ultraviolet light) for phototherapy treatment of vitiligo and hand eczema. The photoactivated form produces interstrand linkages in DNA resulting in cell apoptosis. In research it can be conjugated to dyes for confocal microscopy and used to visualize sites of DNA damage.[3] The compound is has been explored for development of antisense oligonucleotides that can be cross-linked specifically to a mutant mRNA sequence without affecting normal transcripts differing at even a single base pair.\n",
            "\n",
            "**Clinical Details:**\n",
            "- **Indication:** Trioxsalen is a pigmenting photosensitizing agent used in conjunction with ultraviolet light in the treatment of vitiligo.\n",
            "- **Mechanism of Action:** After photoactivation it creates interstrand cross-links in DNA, which can cause programmed cell death.\n",
            "- **Toxicity Profile:** nan\n",
            "- **Food Interactions:** Avoid foods high in furanocoumarins. Eating these foods while you are taking trioxsalen may increase your skin's sensitivity to sunlight. Examples include limes, figs, parsley, parsnips, mustard, carrots, and celery.\n",
            "\n",
            "---\n",
            "\n",
            "### 5. Titanium dioxide\n",
            "\n",
            "**Description:** Titanium dioxide, also known as titanium(IV) oxide or titania, is the naturally occurring oxide of titanium. It is used as a pigment under the names titanium white, Pigment White 6 (PW6), or CI 77891. It is typically extracted from ilmenite, rutile and anatase.\n",
            "\n",
            "**Clinical Details:**\n",
            "- **Indication:** Titanium dioxide is used in most sunscreens to block UVA and UVB rays, similar to [zinc oxide].\n",
            "- **Mechanism of Action:** Diminish the penetration of ultraviolet (UV) light through the epidermis by absorbing UV radiation within a specific wavelength range. The amount and wavelength of UV radiation absorbed are affected by the molecular structure of the sunscreen agent.\n",
            "- **Toxicity Profile:** Rat -  LD50 Intratracheal (>100ug/kg ) Effects: Structural or functional changes in bronchi and trachea.\r\n",
            "There is inadequate evidence in humans for the carcinogenicity of titanium dioxide. Cancer in experimental animals: There is sufficient evidence in experimental animals for the carcinogenicity of titanium dioxide. Overall evaluation: Titanium dioxide is possibly carcinogenic to humans (Group 2B).\n",
            "- **Food Interactions:** nan\n",
            "\n",
            "---\n",
            "\n",
            "## Drug-Drug Interaction Analysis\n",
            "\n",
            "### Known Interactions\n",
            "\n",
            "**1. Titanium dioxide + Verteporfin**\n",
            "- Risk: Titanium dioxide may increase the photosensitizing activities of Verteporfin.\n",
            "\n",
            "**2. Verteporfin + Trioxsalen**\n",
            "- Risk: Trioxsalen may increase the photosensitizing activities of Verteporfin.\n",
            "\n",
            "---\n",
            "\n",
            "## Output Requirements\n",
            "\n",
            "Please structure your response as follows:\n",
            "\n",
            "### Drug Summaries\n",
            "Provide a concise summary for each medication listed above.\n",
            "\n",
            "### Combination Risk Assessment\n",
            "Analyze and explain any risks associated with combining these medications, based solely on the interaction data provided.\n",
            "\n",
            "### Clinical Recommendations\n",
            "Offer appropriate guidance for patients or clinicians based on the available information. Include food-interaction recommendations as well if appropriate\n",
            "\n",
            "**Note:** All information should be clearly attributed to the provided data sources. Do not include speculative or unverified information.\n"
          ]
        }
      ],
      "source": [
        "print(prompt)"
      ]
    },
    {
      "cell_type": "code",
      "execution_count": 16,
      "id": "42b3ccee",
      "metadata": {
        "colab": {
          "base_uri": "https://localhost:8080/"
        },
        "id": "42b3ccee",
        "outputId": "a85d6353-a2a5-4482-804a-902a95b9da87"
      },
      "outputs": [
        {
          "output_type": "stream",
          "name": "stdout",
          "text": [
            "### Drug Summaries\n",
            "\n",
            "1. **Acetaminophen**: A widely used analgesic and antipyretic, available over-the-counter, used for mild to moderate pain and fever reduction. It has a low risk of allergic reactions but can cause liver toxicity in overdose.\n",
            "\n",
            "2. **Cetirizine**: An orally active second-generation histamine H1 antagonist, effective in treating allergic symptoms such as sneezing, coughing, and nasal congestion, with minimal sedating effects.\n",
            "\n",
            "3. **Verteporfin**: A benzoporphyrin derivative used in photodynamic therapy to treat abnormal blood vessels in conditions like macular degeneration. It accumulates in these vessels and, when activated by light, produces reactive oxygen species that damage the endothelium.\n",
            "\n",
            "4. **Trioxsalen**: A furanocoumarin derivative used in conjunction with UV-A light for the treatment of vitiligo and hand eczema. It causes photosensitization of the skin and, upon activation, creates interstrand cross-links in DNA, leading to cell apoptosis.\n",
            "\n",
            "5. **Titanium dioxide**: A pigment used in sunscreens to block UVA and UVB rays by absorbing UV radiation. It is possibly carcinogenic to humans, according to the International Agency for Research on Cancer (IARC).\n",
            "\n",
            "### Combination Risk Assessment\n",
            "\n",
            "Based on the provided interaction data, there are two known interactions:\n",
            "\n",
            "- **Titanium dioxide + Verteporfin**: The combination may increase the photosensitizing activities of Verteporfin, potentially enhancing its therapeutic effect but also possibly increasing the risk of adverse effects such as skin sensitivity or damage.\n",
            "\n",
            "- **Verteporfin + Trioxsalen**: This combination may also increase the photosensitizing activities of Verteporfin. Given that both drugs can cause photosensitization, their concurrent use could significantly increase the risk of severe skin reactions or damage upon exposure to light.\n",
            "\n",
            "### Clinical Recommendations\n",
            "\n",
            "1. **Monitoring and Dosing**: Patients on acetaminophen should be closely monitored for signs of liver toxicity, especially when taking high doses or combining with other potentially hepatotoxic substances. Dosing guidelines should be strictly followed.\n",
            "\n",
            "2. **Photosensitivity Precautions**: Patients treated with Verteporfin or Trioxsalen should avoid direct sunlight and bright indoor light for a period recommended by their healthcare provider to minimize the risk of photosensitivity reactions. Protective clothing and sunscreen with high SPF should be used when exposure cannot be avoided.\n",
            "\n",
            "3. **Food Interactions**:\n",
            "   - **Acetaminophen and Cetirizine**: Avoid alcohol to minimize the risk of hepatotoxicity with acetaminophen and potential sedative effects with cetirizine.\n",
            "   - **Trioxsalen**: Avoid foods high in furanocoumarins (e.g., limes, figs, parsley, parsnips, mustard, carrots, and celery) as they can increase skin sensitivity to sunlight.\n",
            "\n",
            "4. **Combination Therapy**: The combination of Titanium dioxide with Verteporfin or Verteporfin with Trioxsalen should be approached with caution. Patients should be closely monitored for increased photosensitivity, and protective measures should be emphasized to prevent adverse effects.\n",
            "\n",
            "5. **General Advice**: Patients should always consult their healthcare provider before starting any new medication, including over-the-counter drugs and supplements, to discuss potential interactions and side effects. Regular follow-up appointments are crucial to monitor the efficacy and safety of the treatment regimen.\n"
          ]
        }
      ],
      "source": [
        "from openai import OpenAI\n",
        "\n",
        "client = OpenAI(\n",
        "    api_key=\"f9c890ca-64fa-4e37-ab62-fd9a1e6c4de6\",\n",
        "    base_url=\"https://api.sambanova.ai/v1\",\n",
        ")\n",
        "\n",
        "response = client.chat.completions.create(\n",
        "    model=\"Meta-Llama-3.3-70B-Instruct\",\n",
        "    messages=[\n",
        "        {\"role\": \"system\", \"content\": \"You are a helpful clinical assistant.\"},\n",
        "        {\"role\": \"user\", \"content\": prompt}\n",
        "    ],\n",
        "    temperature=0.1,\n",
        "    top_p=0.1\n",
        ")\n",
        "\n",
        "print(response.choices[0].message.content)\n"
      ]
    },
    {
      "cell_type": "code",
      "execution_count": null,
      "id": "cfa0dc81",
      "metadata": {
        "id": "cfa0dc81"
      },
      "outputs": [],
      "source": []
    }
  ],
  "metadata": {
    "kernelspec": {
      "display_name": "test",
      "language": "python",
      "name": "python3"
    },
    "language_info": {
      "codemirror_mode": {
        "name": "ipython",
        "version": 3
      },
      "file_extension": ".py",
      "mimetype": "text/x-python",
      "name": "python",
      "nbconvert_exporter": "python",
      "pygments_lexer": "ipython3",
      "version": "3.12.4"
    },
    "colab": {
      "provenance": [],
      "include_colab_link": true
    }
  },
  "nbformat": 4,
  "nbformat_minor": 5
}