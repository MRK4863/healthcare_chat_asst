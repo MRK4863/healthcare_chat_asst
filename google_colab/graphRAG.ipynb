{
  "cells": [
    {
      "cell_type": "markdown",
      "metadata": {
        "id": "view-in-github",
        "colab_type": "text"
      },
      "source": [
        "<a href=\"https://colab.research.google.com/github/MRK4863/healthcare_chat_asst/blob/main/google_colab/graphRAG.ipynb\" target=\"_parent\"><img src=\"https://colab.research.google.com/assets/colab-badge.svg\" alt=\"Open In Colab\"/></a>"
      ]
    },
    {
      "cell_type": "code",
      "source": [
        "!pip install neo4j -qq"
      ],
      "metadata": {
        "colab": {
          "base_uri": "https://localhost:8080/"
        },
        "id": "aeyml834Af29",
        "outputId": "b3e97896-0f99-4efb-b427-61acde549f3b"
      },
      "id": "aeyml834Af29",
      "execution_count": 1,
      "outputs": [
        {
          "output_type": "stream",
          "name": "stdout",
          "text": [
            "\u001b[?25l   \u001b[90m━━━━━━━━━━━━━━━━━━━━━━━━━━━━━━━━━━━━━━━━\u001b[0m \u001b[32m0.0/312.3 kB\u001b[0m \u001b[31m?\u001b[0m eta \u001b[36m-:--:--\u001b[0m\r\u001b[2K   \u001b[91m━━━━━━━━━━━━━━━━━━━━━━━━━━━━━━━━━━━━━━━\u001b[0m\u001b[90m╺\u001b[0m \u001b[32m307.2/312.3 kB\u001b[0m \u001b[31m30.4 MB/s\u001b[0m eta \u001b[36m0:00:01\u001b[0m\r\u001b[2K   \u001b[90m━━━━━━━━━━━━━━━━━━━━━━━━━━━━━━━━━━━━━━━━\u001b[0m \u001b[32m312.3/312.3 kB\u001b[0m \u001b[31m7.9 MB/s\u001b[0m eta \u001b[36m0:00:00\u001b[0m\n",
            "\u001b[?25h"
          ]
        }
      ]
    },
    {
      "cell_type": "code",
      "execution_count": 9,
      "id": "f1f6cd30",
      "metadata": {
        "id": "f1f6cd30"
      },
      "outputs": [],
      "source": [
        "import pandas as pd\n",
        "from neo4j import GraphDatabase\n",
        "from itertools import combinations"
      ]
    },
    {
      "cell_type": "code",
      "execution_count": 10,
      "id": "d19ecc02",
      "metadata": {
        "id": "d19ecc02"
      },
      "outputs": [],
      "source": [
        "# Read from environment variables or .env file\n",
        "uri = \"neo4j+s://fecbe539.databases.neo4j.io\"\n",
        "username = \"neo4j\"\n",
        "password = \"yaxMZJyX9a6Ph4SNdRncWJWbSWbmiNGS9Flah_UV100\""
      ]
    },
    {
      "cell_type": "code",
      "execution_count": 11,
      "id": "1c460f94",
      "metadata": {
        "id": "1c460f94"
      },
      "outputs": [],
      "source": [
        "# Connect to Neo4j Aura\n",
        "driver = GraphDatabase.driver(\n",
        "    uri,\n",
        "    auth=(\"neo4j\", password)\n",
        ")"
      ]
    },
    {
      "cell_type": "code",
      "execution_count": 12,
      "id": "d3a94e40",
      "metadata": {
        "id": "d3a94e40",
        "colab": {
          "base_uri": "https://localhost:8080/"
        },
        "outputId": "732976b4-dfed-4f31-a212-ecbcf0496ee7"
      },
      "outputs": [
        {
          "output_type": "stream",
          "name": "stderr",
          "text": [
            "<ipython-input-12-3289901911>:1: DtypeWarning: Columns (29,30,31,32,36,37) have mixed types. Specify dtype option on import or set low_memory=False.\n",
            "  df_drug_db = pd.read_csv(\"/content/drugbank_clean.csv\")\n"
          ]
        }
      ],
      "source": [
        "df_drug_db = pd.read_csv(\"/content/drugbank_clean.csv\")\n",
        "\n",
        "filtered_df = df_drug_db.dropna(subset=['name', 'drugbank-id'])\n",
        "\n",
        "name_to_drugbank_dict = dict(zip(filtered_df['name'], filtered_df['drugbank-id']))"
      ]
    },
    {
      "cell_type": "code",
      "execution_count": 13,
      "id": "47812f6e",
      "metadata": {
        "colab": {
          "base_uri": "https://localhost:8080/"
        },
        "id": "47812f6e",
        "outputId": "b6cea28e-3e41-4ec0-d619-47c8f86aae45"
      },
      "outputs": [
        {
          "output_type": "stream",
          "name": "stderr",
          "text": [
            "<ipython-input-13-4113845751>:27: DeprecationWarning: read_transaction has been renamed to execute_read\n",
            "  drug_infos = session.read_transaction(get_drug_info, drug_list)\n",
            "<ipython-input-13-4113845751>:28: DeprecationWarning: read_transaction has been renamed to execute_read\n",
            "  interaction_infos = session.read_transaction(get_interactions, pairs)\n"
          ]
        }
      ],
      "source": [
        "def get_drug_info(tx, drug_names):\n",
        "    query = \"\"\"\n",
        "    MATCH (d:Drug)\n",
        "    WHERE d.name IN $drug_names\n",
        "    RETURN d.drugbank_id AS id, d.name AS name, d.description AS description,\n",
        "           d.indication AS indication, d.mechanism_of_action AS mechanism, d.toxicity AS toxicity, d.food_interactions as food_interactions\n",
        "    \"\"\"\n",
        "    return list(tx.run(query, drug_names=drug_names))\n",
        "\n",
        "def get_interactions(tx, pairs):\n",
        "    results = []\n",
        "    for drug1, drug2 in pairs:\n",
        "        # drug_1_id, drug_2_id = name_to_drugbank_dict[drug1], name_to_drugbank_dict[drug2]\n",
        "        query = \"\"\"\n",
        "        MATCH (a:Drug {name: $drug1})-[r:INTERACTS_WITH]-(b:Drug {name: $drug2})\n",
        "        RETURN a.name AS drug1, b.name AS drug2, r.description AS description\n",
        "        \"\"\"\n",
        "        rec = tx.run(query, drug1=drug1, drug2=drug2).single()\n",
        "        if rec:\n",
        "            results.append(dict(rec))\n",
        "    return results\n",
        "\n",
        "drug_list = [\"Titanium dioxide\", \"Verteporfin\", \"Trioxsalen\", \"Cetirizine\", \"Acetaminophen\"]\n",
        "pairs = list(combinations(drug_list, 2))\n",
        "\n",
        "with driver.session() as session:\n",
        "    drug_infos = session.read_transaction(get_drug_info, drug_list)\n",
        "    interaction_infos = session.read_transaction(get_interactions, pairs)"
      ]
    },
    {
      "cell_type": "code",
      "execution_count": 21,
      "id": "61a18458",
      "metadata": {
        "id": "61a18458"
      },
      "outputs": [],
      "source": [
        "def get_drugInfo_userPrompt(drug_infos, interaction_infos):\n",
        "    \"\"\"\n",
        "    Build a well-organized, markdown-formatted prompt for drug information analysis.\n",
        "\n",
        "    Args:\n",
        "        drug_infos (list): List of dictionaries containing drug information\n",
        "        interaction_infos (list): List of dictionaries containing drug interaction information\n",
        "\n",
        "    Returns:\n",
        "        str: Formatted prompt string\n",
        "    \"\"\"\n",
        "\n",
        "    prompt = \"\"\"# Clinical Drug Analysis Assistant\n",
        "\n",
        "## Instructions\n",
        "You are a clinical assistant tasked with analyzing drug information. Please follow these steps:\n",
        "\n",
        "1. **Summarize each drug** - Provide a clear, concise summary of each medication\n",
        "2. **Analyze combination risks** - List and explain the risks of combining any of these drugs\n",
        "3. **Base responses on provided data only** - Do not generate information that cannot be verified from the data below\n",
        "\n",
        "---\n",
        "\n",
        "## Drug Information Database\n",
        "\n",
        "\"\"\"\n",
        "\n",
        "    # Add individual drug information\n",
        "    for i, drug in enumerate(drug_infos, 1):\n",
        "        prompt += f\"\"\"### {i}. {drug['name']}\n",
        "\n",
        "**Description:** {drug['description']}\n",
        "\n",
        "**Clinical Details:**\n",
        "- **Indication:** {drug['indication']}\n",
        "- **Mechanism of Action:** {drug['mechanism']}\n",
        "- **Toxicity Profile:** {drug['toxicity']}\n",
        "- **Food Interactions:** {drug['food_interactions']}\n",
        "\n",
        "---\n",
        "\n",
        "\"\"\"\n",
        "\n",
        "    # Add drug interaction information\n",
        "    prompt += \"\"\"## Drug-Drug Interaction Analysis\n",
        "\n",
        "\"\"\"\n",
        "\n",
        "    if interaction_infos and len(interaction_infos) > 0:\n",
        "        prompt += \"\"\"### Known Interactions\n",
        "\n",
        "\"\"\"\n",
        "        for i, interaction in enumerate(interaction_infos, 1):\n",
        "            prompt += f\"\"\"**{i}. {interaction['drug1']} + {interaction['drug2']}**\n",
        "- Risk: {interaction['description']}\n",
        "\n",
        "\"\"\"\n",
        "    else:\n",
        "        prompt += \"\"\"### No Known Interactions\n",
        "No documented drug-drug interactions were found among the provided medications based on the available data.\n",
        "\n",
        "\"\"\"\n",
        "\n",
        "    prompt += \"\"\"---\n",
        "\n",
        "## Output Requirements\n",
        "\n",
        "Please structure your response as follows:\n",
        "\n",
        "### Drug Summaries\n",
        "Provide a concise summary for each medication listed above.\n",
        "\n",
        "### Combination Risk Assessment\n",
        "Analyze and explain any risks associated with combining these medications, based solely on the interaction data provided.\n",
        "\n",
        "### Clinical Recommendations\n",
        "Offer appropriate guidance for patients or clinicians based on the available information. Include food-interaction recommendations as well if appropriate\n",
        "\n",
        "**Note:** All information should be clearly attributed to the provided data sources. Do not include speculative or unverified information.\"\"\"\n",
        "\n",
        "    return prompt\n",
        "\n",
        "prompt = get_drugInfo_userPrompt(drug_infos, interaction_infos)\n"
      ]
    },
    {
      "cell_type": "code",
      "execution_count": 22,
      "id": "6b9d1ad8",
      "metadata": {
        "colab": {
          "base_uri": "https://localhost:8080/"
        },
        "id": "6b9d1ad8",
        "outputId": "57a6a0b8-c872-4cb3-f80f-4398aa6fe38b"
      },
      "outputs": [
        {
          "output_type": "stream",
          "name": "stdout",
          "text": [
            "# Clinical Drug Analysis Assistant\n",
            "\n",
            "## Instructions\n",
            "You are a clinical assistant tasked with analyzing drug information. Please follow these steps:\n",
            "\n",
            "1. **Summarize each drug** - Provide a clear, concise summary of each medication\n",
            "2. **Analyze combination risks** - List and explain the risks of combining any of these drugs\n",
            "3. **Base responses on provided data only** - Do not generate information that cannot be verified from the data below\n",
            "\n",
            "---\n",
            "\n",
            "## Drug Information Database\n",
            "\n",
            "### 1. Acetaminophen\n",
            "\n",
            "**Description:** Acetaminophen (paracetamol), also commonly known as _Tylenol_, is the most commonly taken analgesic worldwide and is recommended as first-line therapy in pain conditions by the World Health Organization (WHO).[A176318] It is also used for its antipyretic effects, helping to reduce fever.[F4124] This drug was initially approved by the U.S. FDA in 1951 and is available in a variety of forms including syrup form, regular tablets, effervescent tablets, injection, suppository, and other forms.[L5756,L5774,F4124,Label]\r\n",
            "\r\n",
            "Acetaminophen is often found combined with other drugs in more than 600 over the counter (OTC) allergy medications, cold medications, sleep medications, pain relievers, and other products.[L5783] Confusion about dosing of this drug may be caused by the availability of different formulas, strengths, and dosage instructions for children of different ages.[L5783] Due to the possibility of fatal overdose and liver failure associated with the incorrect use of acetaminophen, it is important to follow current and available national and manufacturer dosing guidelines while this drug is taken or prescribed.[L5786,L5789,Label]\n",
            "\n",
            "**Clinical Details:**\n",
            "- **Indication:** In general, acetaminophen is used for the treatment of mild to moderate pain and reduction of fever.[F4124] It is available over the counter in various forms, the most common being oral forms.\r\n",
            "\r\n",
            "Acetaminophen _injection_ is indicated for the management of mild to moderate pain, the management of moderate to severe pain with adjunctive opioid analgesics, and the reduction of fever.[Label]\r\n",
            "\r\n",
            "Because of its low risk of causing allergic reactions, this drug can be administered in patients who are intolerant to salicylates and those with allergic tendencies, including bronchial asthmatics.[F4124] Specific dosing guidelines should be followed when administering acetaminophen to children.[L5780]\n",
            "- **Mechanism of Action:** According to its FDA labeling, acetaminophen's exact mechanism of action has not been fully established[Label] - despite this, it is often categorized alongside NSAIDs (nonsteroidal anti-inflammatory drugs) due to its ability to inhibit the cyclooxygenase (COX) pathways.[T518] It is thought to exert central actions which ultimately lead to the alleviation of pain symptoms.[T518]\r\n",
            "\r\n",
            "One theory is that acetaminophen increases the pain threshold by inhibiting two isoforms of cyclooxygenase, COX-1 and COX-2, which are involved in prostaglandin (PG) synthesis. Prostaglandins are responsible for eliciting pain sensations.[A176366] Acetaminophen does not inhibit cyclooxygenase in peripheral tissues and, therefore, has no peripheral anti-inflammatory effects. Though acetylsalicylic acid (aspirin) is an irreversible inhibitor of COX and directly blocks the active site of this enzyme, studies have shown that acetaminophen (paracetamol) blocks COX indirectly.[F4133] Studies also suggest that acetaminophen selectively blocks a variant type of the COX enzyme that is unique from the known variants COX-1 and COX-2.[A468] This enzyme has been referred to as _COX-3_. The antipyretic actions of acetaminophen are likely attributed to direct action on heat-regulating centers in the brain, resulting in peripheral vasodilation, sweating, and loss of body heat.[F4133] The exact mechanism of action of this drug is not fully understood at this time, but future research may contribute to deeper knowledge.[F4133]\n",
            "- **Toxicity Profile:** LD50 = 338 mg/kg (oral, mouse); LD50 = 1944 mg/kg (oral, rat)[F4133]\r\n",
            "\r\n",
            "**Overdose and liver toxicity** \r\n",
            "\r\n",
            "Acetaminophen overdose may be manifested by renal tubular necrosis, hypoglycemic coma, and thrombocytopenia. Sometimes, liver necrosis can occur as well as liver failure. Death and the requirement of a liver transplant may also occur.[Label] Metabolism by the CYP2E1 pathway releases a toxic acetaminophen metabolite known as _N-acetyl-p-benzoquinoneimine_(NAPQI). The toxic effects caused by this drug are attributed to NAPQI, not acetaminophen alone.[F4133]\r\n",
            "\r\n",
            "**Carcinogenesis**\r\n",
            "\r\n",
            "Long-term studies in mice and rats have been completed by the National Toxicology Program to study the carcinogenic risk of acetaminophen. In 2-year feeding studies, F344/N rats and B6C3F1 mice consumed a diet containing acetaminophen up to 6,000 ppm. Female rats showed evidence of carcinogenic activity demonstrated by a higher incidence of mononuclear cell leukemia at doses 0.8 times the maximum human daily dose (MHDD). No evidence of carcinogenesis in male rats (0.7 times) or mice (1.2 to 1.4 times the MHDD) was noted.[Label] The clinical relevance of this finding in humans is unknown.\r\n",
            "\r\n",
            "**Mutagenesis**\r\n",
            "\r\n",
            "Acetaminophen was not found to be mutagenic in the bacterial reverse mutation assay (Ames test). Despite this finding, acetaminophen tested positive in the in vitro mouse lymphoma assay as well as the in vitro chromosomal aberration assay using human lymphocytes. In published studies, acetaminophen has been reported to be clastogenic (disrupting chromosomes) when given a high dose of 1,500 mg/kg/day to the rat model (3.6 times the MHDD). No clastogenicity was observed at a dose of 750 mg/kg/day (1.8 times the MHDD), indicating that this drug has a threshold before it may cause mutagenesis.[Label] The clinical relevance of this finding in humans is unknown.\r\n",
            "\r\n",
            "**Impairment of Fertility**\r\n",
            "\r\n",
            "In studies conducted by the National Toxicology Program, fertility assessments have been performed in Swiss mice in a continuous breeding study. No effects on fertility were seen.[Label] \r\n",
            "\r\n",
            "**Use in pregnancy and nursing**\r\n",
            "\r\n",
            "The FDA label for acetaminophen considers it a pregnancy category C drug, meaning this drug has demonstrated adverse effects in animal studies. No human clinical studies in pregnancy have been done to this date for intravenous acetaminophen.[Label] Use acetaminophen only when necessary during pregnancy.[Label] Epidemiological data on oral acetaminophen use in pregnant women demonstrate no increase in the risk of major congenital malformations.[Label] While prospective clinical studies examining the results of nursing with acetaminophen use have not been conducted, acetaminophen is found secreted in human milk at low concentrations after oral administration. Data from more than 15 nursing mothers taking acetaminophen was obtained, and the calculated daily dose of acetaminophen that reaches the infant is about 1 to 2% of the maternal dose. Caution should be observed when acetaminophen is taken by a nursing woman.[Label]\n",
            "- **Food Interactions:** Avoid alcohol. Alcohol may increase the risk of hepatotoxicity. Take with or without food. The absorption is unaffected by food.\n",
            "\n",
            "---\n",
            "\n",
            "### 2. Cetirizine\n",
            "\n",
            "**Description:** Cetirizine, also commonly known as _Zyrtec_, is an orally active second-generation histamine H1 antagonist proven effective in the treatment of various allergic symptoms, such as sneezing, coughing, nasal congestion, hives, and other symptoms [A175051], [A175054]. \r\n",
            "\r\n",
            "One of the most common uses for this drug is for a condition called _allergic rhinitis_. The prevalence of allergic rhinitis in the United States is about 15% according to physician diagnoses, and up to 30%, according to self-reported nasal symptoms. Allergic rhinitis is associated with multiple missed or unproductive days at work and school, problems with sleep, and other difficulties with day to day activities for many individuals [A175057]. Furthermore, some antihistamine agents that are used to treat this condition cause undesirable, sedating effects [A175060]. \r\n",
            "\r\n",
            "Cetirizine is one of the first second-generation H1 antihistamines (SGAHs) formulated to selectively inhibit the H1 receptor without sedating effects [A175054].\n",
            "\n",
            "**Clinical Details:**\n",
            "- **Indication:** **Seasonal Allergic Rhinitis**: Indicated for the relief of symptoms associated with seasonal allergic rhinitis caused by allergens such as ragweed, grass and tree pollens in adults and children 2 years of age and above. Symptoms treated effectively include sneezing, rhinorrhea, nasal pruritus, ocular pruritus, tearing, and redness of the eyes [FDA label]. \r\n",
            "\r\n",
            "**Perennial allergic rhinitis**: This drug is indicated for the relief of symptoms associated with perennial allergic rhinitis due to allergens including dust mites, animal dander, and molds in adults and children 6 months of age and older. Symptoms treated effectively include sneezing, rhinorrhea, postnasal discharge, nasal pruritus, ocular pruritus, and tearing [FDA label]. \r\n",
            "\r\n",
            "**Chronic urticaria**: Cetirizine is indicated for the treatment of the uncomplicated skin manifestations of chronic idiopathic urticaria in adults and children 6 months of age and older. It markedly reduces the occurrence, severity, and duration of hives and significantly reduces pruritus [FDA label].\n",
            "- **Mechanism of Action:** Cetirizine, a metabolite of _hydroxyzine_, is an antihistamine drug.  Its main effects are achieved through selective inhibition of peripheral H1 receptors. The antihistamine activity of cetirizine has been shown in a variety of animal and human models. _In vivo_ and _ex vivo_ animal models have shown insignificant anticholinergic and antiserotonergic effects. In clinical studies, however, dry mouth was found to be more frequent with cetirizine than with a placebo. In vitro receptor binding studies have demonstrated no detectable affinity of cetirizine for histamine receptors  other than the H1 receptors. Studies with radiolabeled cetirizine administration in the rat have demonstrated insignificant penetration into the brain. _Ex vivo_ studies in the mouse have shown that systemically administered cetirizine does not occupy cerebral H1 receptors significantly [FDA label].\n",
            "- **Toxicity Profile:** Oral LD50 (rat): 365 mg/kg; Intraperitoneal LDLO (mouse): 138 mg/kg; Oral TDLO (rat): 50 mg/kg; Oral TDLO (mouse): 0.1 mg/kg [MSDS]. \r\n",
            "\r\n",
            "**Carcinogenesis and mutagenesis**: In a 2-year carcinogenicity study in rats, cetirizine was not shown to be carcinogenic at dietary doses up to 20 mg/kg (approximately 15 times the maximum recommended daily oral dose in adults). In a 2-year carcinogenicity study in mice, cetirizine administration lead to an incidence of benign liver tumors in males at a dietary dose of 16 mg/kg (approximately 6 times the maximum recommended daily oral dose in adults). The clinical significance of these findings during long-term use of cetirizine is unknown at this time [FDA label].\r\n",
            "\r\n",
            "Cetirizine was not mutagenic in the Ames test, and not clastogenic in the human lymphocyte assay, the mouse lymphoma assay, and in vivo micronucleus test in rats [FDA label]. \r\n",
            "\r\n",
            "**Impairment of fertility**\r\n",
            "\r\n",
            "In a fertility and reproduction study in mice, cetirizine did not negatively impact fertility at an oral dose of 64 mg/kg (approximately 25 times the maximum recommended daily oral dose in adults) [FDA label]. \r\n",
            "\r\n",
            "\r\n",
            "**Pregnancy Category B**: \r\n",
            "\r\n",
            "In mice, rats, and rabbits, cetirizine was not teratogenic at oral doses up to 96, 225, and 135 mg/kg, respectively (approximately 40, 180 and 220 times the maximum recommended daily oral dose in adults). There are no adequate and well-controlled studies in pregnant women. Because animal studies are not always predictive of human response, cetirizine should be used in pregnancy only if clearly needed [FDA label]. \r\n",
            "\r\n",
            "**Use in breastfeeding/nursing**\r\n",
            "\r\n",
            "Cetirizine has been reported to be excreted in human breast milk. The use of cetirizine in nursing mothers is not recommended [FDA label].\n",
            "- **Food Interactions:** Avoid alcohol. Take with or without food. The absorption is unaffected by food.\n",
            "\n",
            "---\n",
            "\n",
            "### 3. Verteporfin\n",
            "\n",
            "**Description:** Verteporfin, marketed as Visudyne, is a benzoporphyrin derivative. It is used as a photosensitizer in photodynamic therapy to eliminate abnormal blood vessels in wet form macular degeneration. Verteporfin accumulates in these abnormal blood vessels and, when stimulated by nonthermal red light with a wavelength of 693 nm in the presence of oxygen, produces highly reactive short-lived singlet oxygen and other reactive oxygen radicals, resulting in local damage to the endothelium and blockage of the vessels.\n",
            "\n",
            "**Clinical Details:**\n",
            "- **Indication:** For the treatment of patients with predominantly classic subfoveal choroidal neovascularization due to age-related macular degeneration, pathologic myopia or presumed ocular histoplasmosis syndrome. Verteporfin can also be used to destroy tumors.\n",
            "- **Mechanism of Action:** Verteporfin is transported in the plasma primarily by lipoproteins. Once verteporfin is activated by light in the presence of oxygen, highly reactive, short-lived singlet oxygen and reactive oxygen radicals are generated. Light activation of verteporfin results in local damage to neovascular endothelium, resulting in vessel occlusion. Damaged endothelium is known to release procoagulant and vasoactive factors through the lipo-oxygenase (leukotriene) and cyclo-oxygenase (eicosanoids such as thromboxane) pathways, resulting in platelet aggregation, fibrin clot formation and vasoconstriction. Verteporfin appears to somewhat preferentially accumulate in neovasculature, including choroidal neovasculature. However, animal models indicate that the drug is also present in the retina. As singlet oxygen and reactive oxygen radicals are cytotoxic, Verteporfin can also be used to destroy tumor cells.\n",
            "- **Toxicity Profile:** Overdose of drug and/or light in the treated eye may result in nonperfusion of normal retinal vessels with the possibility of severe decrease in vision that could be permanent. An overdose of drug will also result in the prolongation of the period during which the patient remains photosensitive to bright light.\n",
            "- **Food Interactions:** nan\n",
            "\n",
            "---\n",
            "\n",
            "### 4. Trioxsalen\n",
            "\n",
            "**Description:** Trioxsalen (trimethylpsoralen, trioxysalen or trisoralen) is a furanocoumarin and a psoralen derivative obtained from several plants, mainly Psoralea corylifolia. Like other psoralens it causes photosensitization of the skin. It is administered either topically or orally in conjunction with UV-A (the least damaging form of ultraviolet light) for phototherapy treatment of vitiligo and hand eczema. The photoactivated form produces interstrand linkages in DNA resulting in cell apoptosis. In research it can be conjugated to dyes for confocal microscopy and used to visualize sites of DNA damage.[3] The compound is has been explored for development of antisense oligonucleotides that can be cross-linked specifically to a mutant mRNA sequence without affecting normal transcripts differing at even a single base pair.\n",
            "\n",
            "**Clinical Details:**\n",
            "- **Indication:** Trioxsalen is a pigmenting photosensitizing agent used in conjunction with ultraviolet light in the treatment of vitiligo.\n",
            "- **Mechanism of Action:** After photoactivation it creates interstrand cross-links in DNA, which can cause programmed cell death.\n",
            "- **Toxicity Profile:** nan\n",
            "- **Food Interactions:** Avoid foods high in furanocoumarins. Eating these foods while you are taking trioxsalen may increase your skin's sensitivity to sunlight. Examples include limes, figs, parsley, parsnips, mustard, carrots, and celery.\n",
            "\n",
            "---\n",
            "\n",
            "### 5. Titanium dioxide\n",
            "\n",
            "**Description:** Titanium dioxide, also known as titanium(IV) oxide or titania, is the naturally occurring oxide of titanium. It is used as a pigment under the names titanium white, Pigment White 6 (PW6), or CI 77891. It is typically extracted from ilmenite, rutile and anatase.\n",
            "\n",
            "**Clinical Details:**\n",
            "- **Indication:** Titanium dioxide is used in most sunscreens to block UVA and UVB rays, similar to [zinc oxide].\n",
            "- **Mechanism of Action:** Diminish the penetration of ultraviolet (UV) light through the epidermis by absorbing UV radiation within a specific wavelength range. The amount and wavelength of UV radiation absorbed are affected by the molecular structure of the sunscreen agent.\n",
            "- **Toxicity Profile:** Rat -  LD50 Intratracheal (>100ug/kg ) Effects: Structural or functional changes in bronchi and trachea.\r\n",
            "There is inadequate evidence in humans for the carcinogenicity of titanium dioxide. Cancer in experimental animals: There is sufficient evidence in experimental animals for the carcinogenicity of titanium dioxide. Overall evaluation: Titanium dioxide is possibly carcinogenic to humans (Group 2B).\n",
            "- **Food Interactions:** nan\n",
            "\n",
            "---\n",
            "\n",
            "## Drug-Drug Interaction Analysis\n",
            "\n",
            "### Known Interactions\n",
            "\n",
            "**1. Titanium dioxide + Verteporfin**\n",
            "- Risk: Titanium dioxide may increase the photosensitizing activities of Verteporfin.\n",
            "\n",
            "**2. Verteporfin + Trioxsalen**\n",
            "- Risk: Trioxsalen may increase the photosensitizing activities of Verteporfin.\n",
            "\n",
            "---\n",
            "\n",
            "## Output Requirements\n",
            "\n",
            "Please structure your response as follows:\n",
            "\n",
            "### Drug Summaries\n",
            "Provide a concise summary for each medication listed above.\n",
            "\n",
            "### Combination Risk Assessment\n",
            "Analyze and explain any risks associated with combining these medications, based solely on the interaction data provided.\n",
            "\n",
            "### Clinical Recommendations\n",
            "Offer appropriate guidance for patients or clinicians based on the available information. Include food-interaction recommendations as well if appropriate\n",
            "\n",
            "**Note:** All information should be clearly attributed to the provided data sources. Do not include speculative or unverified information.\n"
          ]
        }
      ],
      "source": [
        "print(prompt)"
      ]
    },
    {
      "cell_type": "code",
      "source": [
        "sample_messages=[\n",
        "        {\"role\": \"system\", \"content\": \"You are a helpful clinical assistant.\"},\n",
        "        {\"role\": \"user\", \"content\": prompt}\n",
        "    ]\n",
        "\n",
        "sample_response = get_sambanova_response(sample_messages, model = \"Meta-Llama-3.3-70B-Instruct\")\n",
        "\n",
        "print(sample_response)"
      ],
      "metadata": {
        "colab": {
          "base_uri": "https://localhost:8080/",
          "height": 106
        },
        "id": "k-XOeCexnRXQ",
        "outputId": "b9de7a1e-4703-4cfb-ff3c-0d910b9f5cb6"
      },
      "id": "k-XOeCexnRXQ",
      "execution_count": 53,
      "outputs": [
        {
          "output_type": "error",
          "ename": "SyntaxError",
          "evalue": "invalid syntax (<ipython-input-53-2771570239>, line 1)",
          "traceback": [
            "\u001b[0;36m  File \u001b[0;32m\"<ipython-input-53-2771570239>\"\u001b[0;36m, line \u001b[0;32m1\u001b[0m\n\u001b[0;31m    messages =\u001b[0m\n\u001b[0m               ^\u001b[0m\n\u001b[0;31mSyntaxError\u001b[0m\u001b[0;31m:\u001b[0m invalid syntax\n"
          ]
        }
      ]
    },
    {
      "cell_type": "code",
      "source": [
        "from openai import OpenAI\n",
        "import openai\n",
        "import base64\n",
        "import requests\n",
        "import json\n",
        "\n",
        "def get_sambanova_response(messages, model = \"Meta-Llama-3.1-8B-Instruct\"):\n",
        "\n",
        "    client = OpenAI(\n",
        "        api_key=\"f9c890ca-64fa-4e37-ab62-fd9a1e6c4de6\",\n",
        "        base_url=\"https://api.sambanova.ai/v1\",\n",
        "    )\n",
        "\n",
        "    response = client.chat.completions.create(\n",
        "        model=model,\n",
        "        messages=messages,\n",
        "        # temperature=0.1,\n",
        "        # top_p=0.1\n",
        "    )\n",
        "\n",
        "    return response.choices[0].message.content\n",
        "\n",
        "def append_message_to_list(messages, role, content):\n",
        "    messages.append({\"role\":role, \"content\": content})\n",
        "\n",
        "def encode_image_from_path(image_path: str) -> str:\n",
        "    \"\"\"Encode image from local file path to base64 string\"\"\"\n",
        "\n",
        "    with open(image_path, \"rb\") as image_file:\n",
        "        return base64.b64encode(image_file.read()).decode('utf-8')\n",
        "\n",
        "def encode_image_from_url(image_url: str) -> str:\n",
        "    \"\"\"Download and encode image from URL to base64 string\"\"\"\n",
        "    # Download the image\n",
        "    response = requests.get(image_url, timeout=30)\n",
        "    response.raise_for_status()  # Raise an exception for bad status codes\n",
        "\n",
        "    # Encode to base64\n",
        "    image_base64 = base64.b64encode(response.content).decode('utf-8')\n",
        "    return image_base64\n",
        "\n",
        "def encode_image(image_source: str) -> str:\n",
        "    \"\"\"\n",
        "    Universal function to encode image from either local path or URL\n",
        "\n",
        "    Args:\n",
        "        image_source: Either a local file path or HTTP/HTTPS URL\n",
        "\n",
        "    Returns:\n",
        "        Base64 encoded string of the image\n",
        "    \"\"\"\n",
        "    if image_source.startswith(('http://', 'https://')):\n",
        "        return encode_image_from_url(image_source)\n",
        "    else:\n",
        "        return encode_image_from_path(image_source)"
      ],
      "metadata": {
        "id": "k9BSgGi-Z-Fk"
      },
      "id": "k9BSgGi-Z-Fk",
      "execution_count": 39,
      "outputs": []
    },
    {
      "cell_type": "code",
      "source": [
        "def get_drugListExtractor_systemPrompt():\n",
        "    prompt = \"\"\"# Drug Name Extraction System Prompt\n",
        "\n",
        "```\n",
        "You are a medical AI assistant specialized in extracting drug names from text and images.\n",
        "\n",
        "Your task is to identify and extract all drug names (generic and brand names) mentioned in the provided content.\n",
        "\n",
        "INSTRUCTIONS:\n",
        "1. Extract ALL drug names, including:\n",
        "   - Generic drug names (e.g., acetaminophen, ibuprofen)\n",
        "   - Brand names (e.g., Tylenol, Advil)\n",
        "   - Prescription medications\n",
        "   - Over-the-counter medications\n",
        "   - Supplements and vitamins with specific drug names\n",
        "\n",
        "2. DO NOT include:\n",
        "   - General terms like \"medication\", \"pills\", \"tablets\"\n",
        "   - Dosage information (e.g., \"500mg\")\n",
        "   - Medical conditions or symptoms\n",
        "   - Non-drug substances unless they are medications\n",
        "\n",
        "3. Return your response in the following JSON format ONLY:\n",
        "{\n",
        "    \"drug_names\": [\"drug1\", \"drug2\", \"drug3\"],\n",
        "    \"confidence\": [0.95, 0.87, 0.92]\n",
        "}\n",
        "\n",
        "4. If no drug names are found, return:\n",
        "{\n",
        "    \"drug_names\": [],\n",
        "    \"confidence\": []\n",
        "}\n",
        "\n",
        "5. Confidence scores should be between 0.0 and 1.0, where:\n",
        "   - 1.0 = Absolutely certain it's a drug name\n",
        "   - 0.8-0.9 = Very confident\n",
        "   - 0.6-0.7 = Moderately confident\n",
        "   - Below 0.6 = Low confidence (consider excluding)\n",
        "\n",
        "IMPORTANT: Return ONLY the JSON response, no additional text or explanations.\n",
        "```\"\"\"\n",
        "    return prompt"
      ],
      "metadata": {
        "id": "1Yik-709eQYq"
      },
      "id": "1Yik-709eQYq",
      "execution_count": 40,
      "outputs": []
    },
    {
      "cell_type": "code",
      "execution_count": 50,
      "id": "42b3ccee",
      "metadata": {
        "colab": {
          "base_uri": "https://localhost:8080/"
        },
        "id": "42b3ccee",
        "outputId": "4611ad4f-d6df-435f-8424-04ae328360ac"
      },
      "outputs": [
        {
          "output_type": "stream",
          "name": "stdout",
          "text": [
            "Enter your preference:\n",
            "1. Enter drug-names as text\n",
            "2. Upload drug-names as image\n",
            ":2\n",
            "Enter the image source: /content/image.png\n",
            "{\n",
            "    \"drug_names\": [\"Lepirudin\", \"Cetuximab\", \"Dornase alfa\", \"Denileukin diftitox\", \"Etanercept\", \"Bivalirudin\", \"Leuprolide\", \"Peginterferon alfa-2a\", \"Alteplase\", \"Sermorelin\", \"Interferon alfa-n1\", \"Darbepoetin alfa\", \"Urokinase\", \"Goserelin\", \"Reteplase\", \"Erythropoietin\", \"Salmon calcitonin\", \"Interferon alfa-n3\", \"Pegfilgrastim\", \"Sargramostim\"],\n",
            "    \"confidence\": [1.0, 1.0, 1.0, 1.0, 1.0, 1.0, 1.0, 1.0, 1.0, 1.0, 1.0, 1.0, 1.0, 1.0, 1.0, 1.0, 1.0, 1.0, 1.0, 1.0]\n",
            "}\n"
          ]
        }
      ],
      "source": [
        "\n",
        "\n",
        "# client = OpenAI(\n",
        "#     api_key=\"f9c890ca-64fa-4e37-ab62-fd9a1e6c4de6\",\n",
        "#     base_url=\"https://api.sambanova.ai/v1\",\n",
        "# )\n",
        "\n",
        "# response = client.chat.completions.create(\n",
        "#     model=\"Meta-Llama-3.3-70B-Instruct\",\n",
        "#     messages=[\n",
        "#         {\"role\": \"system\", \"content\": \"You are a helpful clinical assistant.\"},\n",
        "#         {\"role\": \"user\", \"content\": prompt}\n",
        "#     ],\n",
        "#     temperature=0.1,\n",
        "#     top_p=0.1\n",
        "# )\n",
        "\n",
        "# print(response.choices[0].message.content)\n",
        "\n",
        "\n",
        "\n",
        "extract_messages = [\n",
        "        {\n",
        "            \"role\": \"system\",\n",
        "            \"content\": get_drugListExtractor_systemPrompt()\n",
        "        }\n",
        "    ]\n",
        "\n",
        "choice = input(\"Enter your preference:\\n1. Enter drug-names as text\\n2. Upload drug-names as image\\n:\")\n",
        "if choice == \"1\":\n",
        "    extract_messages += [\n",
        "        {\n",
        "            \"role\": \"user\",\n",
        "            \"content\": [\n",
        "                {\"type\": \"text\", \"text\": input()}\n",
        "            ]\n",
        "        }\n",
        "    ]\n",
        "elif choice == \"2\":\n",
        "    image_source = input(\"Enter the image source: \")\n",
        "    image_base64 = encode_image(image_source)\n",
        "    extract_messages += [\n",
        "        {\n",
        "            \"role\": \"user\",\n",
        "            \"content\": [\n",
        "                {\"type\": \"text\", \"text\": \"Extract the drug-names from the image\"},\n",
        "                {\"type\": \"image_url\", \"image_url\": {\"url\": f\"data:image/png;base64,{image_base64}\"}}\n",
        "            ]\n",
        "        }\n",
        "    ]\n",
        "# print(json.dumps(extract_messages, indent = 2))\n",
        "extract_response = get_sambanova_response(extract_messages, model = \"Llama-4-Maverick-17B-128E-Instruct\")\n",
        "print(extract_response)"
      ]
    },
    {
      "cell_type": "code",
      "source": [
        "extracted_drug_names = json.loads(extract_response[extract_response.find(\"{\"): extract_response.rfind(\"}\")+1])[\"drug_names\"]"
      ],
      "metadata": {
        "id": "gmNOj0EyhwJ7"
      },
      "id": "gmNOj0EyhwJ7",
      "execution_count": 61,
      "outputs": []
    },
    {
      "cell_type": "code",
      "source": [
        "print(extracted_drug_names)"
      ],
      "metadata": {
        "colab": {
          "base_uri": "https://localhost:8080/"
        },
        "id": "1QX1TQEmpRns",
        "outputId": "2e2fff88-1997-4282-d1c5-979d339f92b0"
      },
      "id": "1QX1TQEmpRns",
      "execution_count": 62,
      "outputs": [
        {
          "output_type": "stream",
          "name": "stdout",
          "text": [
            "['Lepirudin', 'Cetuximab', 'Dornase alfa', 'Denileukin diftitox', 'Etanercept', 'Bivalirudin', 'Leuprolide', 'Peginterferon alfa-2a', 'Alteplase', 'Sermorelin', 'Interferon alfa-n1', 'Darbepoetin alfa', 'Urokinase', 'Goserelin', 'Reteplase', 'Erythropoietin', 'Salmon calcitonin', 'Interferon alfa-n3', 'Pegfilgrastim', 'Sargramostim']\n"
          ]
        }
      ]
    },
    {
      "cell_type": "code",
      "source": [
        "def complete_graphrag_search(extracted_drug_names_list: list[str]):\n",
        "    drug_list = extracted_drug_names_list\n",
        "    pairs = list(combinations(drug_list, 2))\n",
        "\n",
        "    with driver.session() as session:\n",
        "        drug_infos = session.read_transaction(get_drug_info, drug_list)\n",
        "        interaction_infos = session.read_transaction(get_interactions, pairs)\n",
        "\n",
        "    return drug_infos, interaction_infos\n",
        "\n",
        "def get_responder_output(extracted_drug_names_list: list[str]):\n",
        "    drug_infos, interaction_infos = complete_graphrag_search(extracted_drug_names_list)\n",
        "    user_prompt = get_drugInfo_userPrompt(drug_infos, interaction_infos)\n",
        "    messages=[\n",
        "        {\"role\": \"system\", \"content\": \"You are a helpful clinical assistant.\"},\n",
        "        {\"role\": \"user\", \"content\": user_prompt}\n",
        "    ]\n",
        "\n",
        "    response = get_sambanova_response(messages, model = \"Meta-Llama-3.3-70B-Instruct\")\n",
        "\n",
        "    return response"
      ],
      "metadata": {
        "id": "AlhunpF-mpv1"
      },
      "id": "AlhunpF-mpv1",
      "execution_count": 65,
      "outputs": []
    },
    {
      "cell_type": "code",
      "source": [
        "response = get_responder_output(extracted_drug_names)"
      ],
      "metadata": {
        "colab": {
          "base_uri": "https://localhost:8080/"
        },
        "id": "cosVmmwfoScK",
        "outputId": "ea880cb5-191b-4509-c0bb-ea7660cc1bcc"
      },
      "id": "cosVmmwfoScK",
      "execution_count": 66,
      "outputs": [
        {
          "output_type": "stream",
          "name": "stderr",
          "text": [
            "<ipython-input-65-2980986799>:6: DeprecationWarning: read_transaction has been renamed to execute_read\n",
            "  drug_infos = session.read_transaction(get_drug_info, drug_list)\n",
            "<ipython-input-65-2980986799>:7: DeprecationWarning: read_transaction has been renamed to execute_read\n",
            "  interaction_infos = session.read_transaction(get_interactions, pairs)\n"
          ]
        }
      ]
    },
    {
      "cell_type": "code",
      "source": [
        "print(response)"
      ],
      "metadata": {
        "colab": {
          "base_uri": "https://localhost:8080/"
        },
        "id": "D_M7IdkSodH7",
        "outputId": "904d7f7d-1947-42b9-923d-e5358cc3ae58"
      },
      "id": "D_M7IdkSodH7",
      "execution_count": 67,
      "outputs": [
        {
          "output_type": "stream",
          "name": "stdout",
          "text": [
            "### Drug Summaries\n",
            "\n",
            "1. **Lepirudin**: No information available.\n",
            "2. **Cetuximab**: A recombinant chimeric human/mouse IgG1 monoclonal antibody used for the treatment of head and neck cancer and metastatic colorectal cancer. It binds to epidermal growth factor receptor (EGFR) and inhibits the binding of epidermal growth factor (EGF).\n",
            "3. **Dornase alfa**: A biosynthetic form of human deoxyribonuclease I (DNase I) enzyme used as adjunct therapy in the treatment of cystic fibrosis. It cleaves extracellular DNA, reducing sputum viscosity.\n",
            "4. **Denileukin diftitox**: A recombinant DNA-derived cytotoxic protein for the treatment of cutaneous T-cell lymphoma. It binds to the high-affinity IL-2 receptor complex, selectively killing IL-2 bearing cells.\n",
            "5. **Etanercept**: A dimeric fusion protein consisting of the extracellular ligand-binding portion of the human 75 kilodalton (p75) tumor necrosis factor receptor (TNFR) linked to the Fc portion of human IgG1. Used to treat rheumatoid arthritis, psoriatic arthritis, and ankylosing spondylitis by inhibiting TNF-alpha.\n",
            "6. **Bivalirudin**: No information available.\n",
            "7. **Leuprolide**: A synthetic 9-residue peptide analogue of gonadotropin-releasing hormone (GnRH) used for the treatment of advanced prostate cancer, central precocious puberty, and endometriosis. It downregulates LH and FSH production.\n",
            "8. **Peginterferon alfa-2a**: A form of recombinant interferon used in combination therapy for chronic Hepatitis C and as a monotherapy for adult patients with HBeAg positive and HBeAg negative chronic hepatitis B infection. It activates the innate antiviral response.\n",
            "9. **Alteplase**: No information available.\n",
            "10. **Sermorelin**: A synthetic 29-amino acid peptide corresponding to the amino-terminal segment of the naturally occurring human growth hormone-releasing hormone (GHRH). Used for the treatment of dwarfism and prevention of HIV-induced weight loss.\n",
            "11. **Interferon alfa-n1**: Used for the treatment of venereal or genital warts caused by the Human Papilloma Virus. It binds to type I interferon receptors, activating immunomodulatory and antiviral proteins.\n",
            "12. **Darbepoetin alfa**: A human erythropoietin with substitutions to enhance glycosylation, used for the treatment of anemia associated with chronic renal failure, antiviral drug therapy, or chemotherapy. Stimulates erythropoiesis.\n",
            "13. **Urokinase**: No information available.\n",
            "14. **Goserelin**: A synthetic hormone used for the treatment of advanced prostate cancer, endometriosis, and breast cancer. It suppresses production of testosterone and estradiol.\n",
            "15. **Reteplase**: No information available.\n",
            "16. **Erythropoietin**: A growth factor produced in the kidneys that stimulates red blood cell production. Used for the treatment of anemia associated with chronic renal failure or antiviral drug therapy.\n",
            "17. **Salmon calcitonin**: Used for the treatment of symptomatic Paget's disease, hypercalcemia, and post-menopausal osteoporosis. It binds to calcitonin receptors, enhancing calcium retention and bone density.\n",
            "18. **Interferon alfa-n3**: Used for the intralesional treatment of refractory or recurring external condylomata acuminata. Binds to type I interferon receptors, activating immunomodulatory and antiviral proteins.\n",
            "19. **Pegfilgrastim**: A PEGylated form of filgrastim, used to decrease the incidence of infection in patients with non-myeloid cancer receiving myelosuppressive anti-cancer treatment. Stimulates neutrophil production.\n",
            "20. **Sargramostim**: A human recombinant granulocyte macrophage colony-stimulating factor (GM-CSF) used for the treatment of cancer and bone marrow transplant. Stimulates the production of hemopoietic cells and neutrophils.\n",
            "\n",
            "### Combination Risk Assessment\n",
            "\n",
            "No documented drug-drug interactions were found among the provided medications based on the available data. However, caution should be exercised when combining medications that affect the immune system, such as cetuximab, denileukin diftitox, and interferons, as they may increase the risk of immunosuppression or immune-related adverse events.\n",
            "\n",
            "### Clinical Recommendations\n",
            "\n",
            "1. **Food Interactions**: \n",
            "   - **Darbepoetin alfa** and **Erythropoietin**: Administer iron supplements as most patients with chronic kidney disease require iron supplementation while taking these medications.\n",
            "   - **Salmon calcitonin**: Individuals taking salmon calcitonin for postmenopausal osteoporosis should ingest at least 1000mg of elemental calcium daily and take at least 400 international units of vitamin D daily.\n",
            "   - **Interferon alfa-n1**: Avoid alcohol.\n",
            "\n",
            "2. **General Recommendations**:\n",
            "   - Monitor patients closely for signs of infection, anemia, or other adverse effects when using medications that affect the immune system or bone marrow function.\n",
            "   - Follow the recommended dosing and administration guidelines for each medication to minimize the risk of adverse effects.\n",
            "   - Consider the potential for interactions with other medications or underlying medical conditions when prescribing or taking these medications.\n",
            "\n",
            "Note: These recommendations are based solely on the provided data and may not be comprehensive or up-to-date. It is essential to consult current medical literature and guidelines for the most accurate and detailed information.\n"
          ]
        }
      ]
    },
    {
      "cell_type": "code",
      "execution_count": 68,
      "id": "cfa0dc81",
      "metadata": {
        "id": "cfa0dc81",
        "colab": {
          "base_uri": "https://localhost:8080/",
          "height": 141
        },
        "outputId": "c1b82b7c-683b-4e2c-a247-e0ec23c6a3d9"
      },
      "outputs": [
        {
          "output_type": "error",
          "ename": "NameError",
          "evalue": "name 'df' is not defined",
          "traceback": [
            "\u001b[0;31m---------------------------------------------------------------------------\u001b[0m",
            "\u001b[0;31mNameError\u001b[0m                                 Traceback (most recent call last)",
            "\u001b[0;32m<ipython-input-68-3321519467>\u001b[0m in \u001b[0;36m<cell line: 0>\u001b[0;34m()\u001b[0m\n\u001b[0;32m----> 1\u001b[0;31m \u001b[0mdf\u001b[0m\u001b[0;34m[\u001b[0m\u001b[0;34m\"name\"\u001b[0m\u001b[0;34m]\u001b[0m\u001b[0;34m.\u001b[0m\u001b[0mhead\u001b[0m\u001b[0;34m(\u001b[0m\u001b[0;36m20\u001b[0m\u001b[0;34m)\u001b[0m\u001b[0;34m\u001b[0m\u001b[0;34m\u001b[0m\u001b[0m\n\u001b[0m",
            "\u001b[0;31mNameError\u001b[0m: name 'df' is not defined"
          ]
        }
      ],
      "source": [
        "filtered_df[\"name\"].head(20)"
      ]
    },
    {
      "cell_type": "code",
      "source": [],
      "metadata": {
        "id": "ZcuuxRBnZBut"
      },
      "id": "ZcuuxRBnZBut",
      "execution_count": null,
      "outputs": []
    }
  ],
  "metadata": {
    "kernelspec": {
      "display_name": "test",
      "language": "python",
      "name": "python3"
    },
    "language_info": {
      "codemirror_mode": {
        "name": "ipython",
        "version": 3
      },
      "file_extension": ".py",
      "mimetype": "text/x-python",
      "name": "python",
      "nbconvert_exporter": "python",
      "pygments_lexer": "ipython3",
      "version": "3.12.4"
    },
    "colab": {
      "provenance": [],
      "include_colab_link": true
    }
  },
  "nbformat": 4,
  "nbformat_minor": 5
}